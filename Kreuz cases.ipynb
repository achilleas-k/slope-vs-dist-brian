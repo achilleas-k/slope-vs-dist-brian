{
 "metadata": {
  "name": "",
  "signature": "sha256:ad8389662d7896f4f25021ad87f1e9358e0000b52225536130b60df09f6a374b"
 },
 "nbformat": 3,
 "nbformat_minor": 0,
 "worksheets": [
  {
   "cells": [
    {
     "cell_type": "code",
     "collapsed": false,
     "input": [
      "%pylab inline\n",
      "import spikerlib as sl"
     ],
     "language": "python",
     "metadata": {},
     "outputs": [
      {
       "output_type": "stream",
       "stream": "stdout",
       "text": [
        "Populating the interactive namespace from numpy and matplotlib\n"
       ]
      }
     ],
     "prompt_number": 2
    },
    {
     "cell_type": "code",
     "collapsed": false,
     "input": [
      "isi_start = 0\n",
      "isi_end = 0.1"
     ],
     "language": "python",
     "metadata": {},
     "outputs": [],
     "prompt_number": 3
    },
    {
     "cell_type": "code",
     "collapsed": false,
     "input": [
      "def krdist_plot(one, two, isi_start, isi_end):\n",
      "    w = 0.002\n",
      "    nsamples = 500\n",
      "    len_wsamples = int(w*nsamples/(isi_end-isi_start))\n",
      "    idx_wsamples = range(nsamples-len_wsamples, nsamples)\n",
      "    kreuz_integrals = []\n",
      "    krdist = sl.metrics.kreuz.distance(one, two, isi_start, isi_end, nsamples)\n",
      "    kreuz_integral = trapz(krdist[1], krdist[0])\n",
      "    kreuz_w_integral = trapz(krdist[1][idx_wsamples], krdist[0][idx_wsamples])\n",
      "    figure()\n",
      "    subplot(211)\n",
      "    plot(krdist[0], krdist[1])\n",
      "    plot(krdist[0][idx_wsamples], krdist[1][idx_wsamples], 'r-')\n",
      "    grid()\n",
      "    oneax = axis()\n",
      "    subplot(212)\n",
      "    for sp in one:\n",
      "        plot([sp, sp], [0, 1], 'b-')\n",
      "    for sp in two:\n",
      "        plot([sp, sp], [0, 1], 'r-')\n",
      "    plot([isi_end, isi_end], [0, 1], 'k--')\n",
      "    grid()\n",
      "    axis(oneax); yticks([])\n",
      "    print(\"Integral in w:         %f\" % kreuz_w_integral)\n",
      "    print(\"Integral outside of w: %f\" % (kreuz_integral-kreuz_w_integral))\n",
      "    print(\"Integral in interval:  %f\" % kreuz_integral)\n",
      "    return krdist"
     ],
     "language": "python",
     "metadata": {},
     "outputs": [],
     "prompt_number": 4
    },
    {
     "cell_type": "code",
     "collapsed": false,
     "input": [
      "krdist = krdist_plot([0.099], [0.1], 0, 0.1)"
     ],
     "language": "python",
     "metadata": {},
     "outputs": [
      {
       "output_type": "stream",
       "stream": "stdout",
       "text": [
        "Integral in w:         0.000012\n",
        "Integral outside of w: 0.000246\n",
        "Integral in interval:  0.000258\n"
       ]
      },
      {
       "metadata": {},
       "output_type": "display_data",
       "png": "[encoded data removed]",
       "text": [
        "<matplotlib.figure.Figure at 0x7f578b326cd0>"
       ]
      }
     ],
     "prompt_number": 5
    },
    {
     "cell_type": "code",
     "collapsed": false,
     "input": [
      "krdist = krdist_plot([0.097], [0.1], 0, 0.1)"
     ],
     "language": "python",
     "metadata": {},
     "outputs": [
      {
       "output_type": "stream",
       "stream": "stdout",
       "text": [
        "Integral in w:         0.000031\n",
        "Integral outside of w: 0.000808\n",
        "Integral in interval:  0.000839\n"
       ]
      },
      {
       "metadata": {},
       "output_type": "display_data",
       "png": "[encoded data removed]",
       "text": [
        "<matplotlib.figure.Figure at 0x7f578b1c0790>"
       ]
      }
     ],
     "prompt_number": 6
    },
    {
     "cell_type": "code",
     "collapsed": false,
     "input": [
      "def calc_mvsimple(spikes, start, end, w):\n",
      "    \"\"\"\n",
      "    Simple calculation of multivariate kreuz distance at the beginning of the time window given a set of spikes\n",
      "    \"\"\"\n",
      "    validspikes = [sp for sp in spikes if sp <= (end-w) and sp >= start]\n",
      "    # let's calculate mean and std manually\n",
      "    stdsp = std(validspikes)\n",
      "    xisi = end-mean(validspikes)\n",
      "    result = stdsp*w/(xisi**2)\n",
      "    return result\n",
      "    "
     ],
     "language": "python",
     "metadata": {},
     "outputs": [],
     "prompt_number": 7
    },
    {
     "cell_type": "code",
     "collapsed": false,
     "input": [
      "### Assume two spike trains, one spike each, both before the pre-spike window\n",
      "### This also implies that there is at least one spike at the end of the interval,\n",
      "### but that's added anyway by the calculation of the Kreuz metric, one per spike train\n",
      "isi_start = 0\n",
      "isi_end = 0.1\n",
      "w = 0.002\n",
      "dt = 0.0001\n",
      "winstart = isi_end-w\n",
      "spikes = [0.02, 0.03, 0.07]\n",
      "my_mv = calc_mvsimple(spikes, isi_start, isi_end, w)\n",
      "t, actual_mv = sl.metrics.kreuz.multivariate([[sp] for sp in spikes], isi_start, isi_end, int((isi_end-isi_start)/dt))\n",
      "w_s_dt = int((isi_end-w)/dt)\n",
      "print(my_mv)\n",
      "print(actual_mv[w_s_dt-1])\n"
     ],
     "language": "python",
     "metadata": {},
     "outputs": [
      {
       "output_type": "stream",
       "stream": "stdout",
       "text": [
        "0.0120013716637\n",
        "0.0120013716637\n"
       ]
      }
     ],
     "prompt_number": 14
    }
   ],
   "metadata": {}
  }
 ]
}