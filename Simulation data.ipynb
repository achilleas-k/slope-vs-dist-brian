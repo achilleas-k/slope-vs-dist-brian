{
 "metadata": {
  "name": "",
  "signature": "sha256:78dc6e4fad0993c2dbbaff9ab0cc884863fa84bce36bc910f4d449e673c978bb"
 },
 "nbformat": 3,
 "nbformat_minor": 0,
 "worksheets": [
  {
   "cells": [
    {
     "cell_type": "code",
     "collapsed": false,
     "input": [],
     "language": "python",
     "metadata": {},
     "outputs": []
    }
   ],
   "metadata": {}
  }
 ]
}